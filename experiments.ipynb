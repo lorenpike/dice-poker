{
 "cells": [
  {
   "cell_type": "code",
   "execution_count": 1,
   "metadata": {},
   "outputs": [],
   "source": [
    "from dice_poker.dice import Dice\n",
    "from dice_poker.dice_patterns import RollChecker, Pattern\n",
    "from tqdm import tqdm"
   ]
  },
  {
   "cell_type": "markdown",
   "metadata": {},
   "source": [
    "Let's first roll the dice a bunch of times and see the distribution of rolls"
   ]
  },
  {
   "cell_type": "code",
   "execution_count": 2,
   "metadata": {},
   "outputs": [
    {
     "name": "stderr",
     "output_type": "stream",
     "text": [
      "100%|██████████| 1000000/1000000 [01:32<00:00, 10814.10it/s]\n"
     ]
    }
   ],
   "source": [
    "pattern_frequency = {}\n",
    "for _ in tqdm(range(1000000)):\n",
    "    matches = RollChecker.check_types(Dice.roll())\n",
    "    for m in matches:\n",
    "        if m not in pattern_frequency:\n",
    "            pattern_frequency[m] = 0\n",
    "        pattern_frequency[m] += 1"
   ]
  },
  {
   "cell_type": "code",
   "execution_count": 3,
   "metadata": {},
   "outputs": [
    {
     "name": "stdout",
     "output_type": "stream",
     "text": [
      "Pair: 90.73%\n",
      "Triple: 21.33%\n",
      "Double: 28.90%\n",
      "Straight: 3.08%\n",
      "FullHouse: 3.86%\n",
      "Lucky11: 2.65%\n",
      "Lucky7: 0.20%\n",
      "Yahtzee: 0.08%\n"
     ]
    }
   ],
   "source": [
    "for k, v in pattern_frequency.items():\n",
    "    print(f\"{k}: {v*100/1000000:.2f}%\")"
   ]
  },
  {
   "cell_type": "code",
   "execution_count": 4,
   "metadata": {},
   "outputs": [],
   "source": [
    "def get_max(dice):\n",
    "    return sorted(Pattern.hash_roll(dice.dice).items(), key=lambda x: x[1], reverse=True)[0][0]\n",
    "    \n",
    "def get_mask_most(dice):\n",
    "    max = get_max(dice)\n",
    "    mask = []\n",
    "    for i in dice.dice:\n",
    "        mask.append(max == i)\n",
    "    return mask\n",
    "        "
   ]
  },
  {
   "cell_type": "code",
   "execution_count": 5,
   "metadata": {},
   "outputs": [
    {
     "name": "stderr",
     "output_type": "stream",
     "text": [
      "100%|██████████| 500000/500000 [00:57<00:00, 8712.11it/s]"
     ]
    },
    {
     "name": "stdout",
     "output_type": "stream",
     "text": [
      "Pair: 99.92%\n",
      "Double: 51.64%\n",
      "Triple: 74.28%\n",
      "FullHouse: 9.88%\n",
      "Lucky11: 3.89%\n",
      "Yahtzee: 4.59%\n",
      "Lucky7: 1.18%\n",
      "Straight: 0.02%\n"
     ]
    },
    {
     "name": "stderr",
     "output_type": "stream",
     "text": [
      "\n"
     ]
    }
   ],
   "source": [
    "pattern_frequency = {}\n",
    "NUM = 500000\n",
    "for _ in tqdm(range(NUM)):\n",
    "    dice = Dice()\n",
    "    mask = get_mask_most(dice)\n",
    "    dice.reroll(mask)\n",
    "    mask = get_mask_most(dice)\n",
    "    dice.reroll(mask)\n",
    "    matches = RollChecker.check_types(dice.dice)\n",
    "    for m in matches:\n",
    "        if m not in pattern_frequency:\n",
    "            pattern_frequency[m] = 0\n",
    "        pattern_frequency[m] += 1\n",
    "\n",
    "for k, v in pattern_frequency.items():\n",
    "    print(f\"{k}: {v*100/NUM:.2f}%\")"
   ]
  }
 ],
 "metadata": {
  "interpreter": {
   "hash": "1671b5d873e57f237bcd3cfa9645f2715155979d763dc9fdf5cdd6752280afce"
  },
  "kernelspec": {
   "display_name": "Python 3.8.10 64-bit ('dice-poker-SJuHBkNS-py3.8': poetry)",
   "language": "python",
   "name": "python3"
  },
  "language_info": {
   "codemirror_mode": {
    "name": "ipython",
    "version": 3
   },
   "file_extension": ".py",
   "mimetype": "text/x-python",
   "name": "python",
   "nbconvert_exporter": "python",
   "pygments_lexer": "ipython3",
   "version": "3.8.10"
  },
  "orig_nbformat": 4
 },
 "nbformat": 4,
 "nbformat_minor": 2
}
